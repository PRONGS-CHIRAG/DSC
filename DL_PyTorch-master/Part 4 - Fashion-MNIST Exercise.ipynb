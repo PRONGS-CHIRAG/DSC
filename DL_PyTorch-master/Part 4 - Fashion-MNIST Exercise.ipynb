{
 "cells": [
  {
   "cell_type": "markdown",
   "metadata": {},
   "source": [
    "# Classifying Fashion-MNIST\n",
    "\n",
    "Now it's your turn to build and train a neural network. You'll be using the [Fashion-MNIST dataset](https://github.com/zalandoresearch/fashion-mnist), a drop-in replacement for the MNIST dataset. MNIST is actually quite trivial with neural networks where you can easily achieve better than 97% accuracy. Fashion-MNIST is a set of 28x28 greyscale images of clothes. It's more complex than MNIST, so it's a better representation of the actual performance of your network, and a better representation of datasets you'll use in the real world.\n",
    "\n",
    "<img src='assets/fashion-mnist-sprite.png' width=500px>\n",
    "\n",
    "In this notebook, you'll build your own neural network. For the most part, you could just copy and paste the code from Part 3, but you wouldn't be learning. It's important for you to write the code yourself and get it to work. Feel free to consult the previous notebook though as you work through this.\n",
    "\n",
    "First off, let's load the dataset through torchvision."
   ]
  },
  {
   "cell_type": "code",
   "execution_count": 7,
   "metadata": {},
   "outputs": [],
   "source": [
    "import torch\n",
    "from torchvision import datasets, transforms\n",
    "import helper\n",
    "\n",
    "# Define a transform to normalize the data\n",
    "transform = transforms.Compose([transforms.ToTensor(),\n",
    "                                transforms.Normalize((0.5,), (0.5,))])\n",
    "# Download and load the training data\n",
    "trainset = datasets.FashionMNIST('F_MNIST_data/', download=True, train=True, transform=transform)\n",
    "trainloader = torch.utils.data.DataLoader(trainset, batch_size=64, shuffle=True)\n",
    "\n",
    "# Download and load the test data\n",
    "testset = datasets.FashionMNIST('F_MNIST_data/', download=True, train=False, transform=transform)\n",
    "testloader = torch.utils.data.DataLoader(testset, batch_size=64, shuffle=True)"
   ]
  },
  {
   "cell_type": "markdown",
   "metadata": {},
   "source": [
    "Here we can see one of the images."
   ]
  },
  {
   "cell_type": "code",
   "execution_count": 8,
   "metadata": {},
   "outputs": [
    {
     "data": {
      "image/png": "[encoded data removed]",
      "text/plain": [
       "<Figure size 432x288 with 1 Axes>"
      ]
     },
     "metadata": {
      "image/png": {
       "height": 233,
       "width": 233
      },
      "needs_background": "light"
     },
     "output_type": "display_data"
    }
   ],
   "source": [
    "image, label = next(iter(trainloader))\n",
    "helper.imshow(image[0,:]);"
   ]
  },
  {
   "cell_type": "markdown",
   "metadata": {},
   "source": [
    "With the data loaded, it's time to import the necessary packages."
   ]
  },
  {
   "cell_type": "code",
   "execution_count": 9,
   "metadata": {},
   "outputs": [],
   "source": [
    "%matplotlib inline\n",
    "%config InlineBackend.figure_format = 'retina'\n",
    "\n",
    "import matplotlib.pyplot as plt\n",
    "import numpy as np\n",
    "import time\n",
    "\n",
    "import torch\n",
    "from torch import nn\n",
    "from torch import optim\n",
    "import torch.nn.functional as F\n",
    "from torchvision import datasets, transforms\n",
    "\n",
    "import helper"
   ]
  },
  {
   "cell_type": "markdown",
   "metadata": {},
   "source": [
    "## Building the network\n",
    "\n",
    "Here you should define your network. As with MNIST, each image is 28x28 which is a total of 784 pixels, and there are 10 classes. You should include at least one hidden layer. We suggest you use ReLU activations for the layers and to return the logits from the forward pass. It's up to you how many layers you add and the size of those layers."
   ]
  },
  {
   "cell_type": "code",
   "execution_count": 14,
   "metadata": {},
   "outputs": [
    {
     "data": {
      "text/plain": [
       "Network(\n",
       "  (hidden_layers): ModuleList(\n",
       "    (0): Linear(in_features=784, out_features=512, bias=True)\n",
       "    (1): Linear(in_features=512, out_features=256, bias=True)\n",
       "  )\n",
       "  (output): Linear(in_features=256, out_features=10, bias=True)\n",
       "  (dropout): Dropout(p=0.5)\n",
       ")"
      ]
     },
     "execution_count": 14,
     "metadata": {},
     "output_type": "execute_result"
    }
   ],
   "source": [
    "# TODO: Define your network architecture here\n",
    "class Network (nn.Module):\n",
    "    def __init__(self,input_size,output_size,hidden_layers,drop_p=0.5):\n",
    "        super().__init__()\n",
    "        self.hidden_layers=nn.ModuleList([nn.Linear(input_size,hidden_layers[0])])\n",
    "        layer_sizes=zip(hidden_layers[:-1],hidden_layers[1:])\n",
    "        self.hidden_layers.extend([nn.Linear(h1,h2) for h1,h2 in layer_sizes] )\n",
    "        self.output=nn.Linear(hidden_layers[-1],output_size)\n",
    "        self.dropout= nn.Dropout(p=drop_p)\n",
    "        \n",
    "    def forward(self,x):\n",
    "        for linear in self.hidden_layers:\n",
    "            x=F.relu(linear(x))\n",
    "            x=self.dropout(x)\n",
    "        x=self.output(x)\n",
    "        x=F.log_softmax(x,dim=1)\n",
    "        return x\n",
    "model=Network(784,10,[512,256],drop_p=0.5)\n",
    "model"
   ]
  },
  {
   "cell_type": "markdown",
   "metadata": {},
   "source": [
    "# Train the network\n",
    "\n",
    "Now you should create your network and train it. First you'll want to define [the criterion](http://pytorch.org/docs/master/nn.html#loss-functions) ( something like `nn.CrossEntropyLoss`) and [the optimizer](http://pytorch.org/docs/master/optim.html) (typically `optim.SGD` or `optim.Adam`).\n",
    "\n",
    "Then write the training code. Remember the training pass is a fairly straightforward process:\n",
    "\n",
    "* Make a forward pass through the network to get the logits \n",
    "* Use the logits to calculate the loss\n",
    "* Perform a backward pass through the network with `loss.backward()` to calculate the gradients\n",
    "* Take a step with the optimizer to update the weights\n",
    "\n",
    "By adjusting the hyperparameters (hidden units, learning rate, etc), you should be able to get the training loss below 0.4."
   ]
  },
  {
   "cell_type": "code",
   "execution_count": 15,
   "metadata": {},
   "outputs": [],
   "source": [
    "# TODO: Create the network, define the criterion and optimizer\n",
    "criterion=nn.NLLLoss()\n",
    "optimizer=optim.Adam(model.parameters(),lr=0.001)\n"
   ]
  },
  {
   "cell_type": "code",
   "execution_count": 18,
   "metadata": {},
   "outputs": [
    {
     "name": "stdout",
     "output_type": "stream",
     "text": [
      "Epoch: 1/2...  Loss: 0.4234\n",
      "Epoch: 1/2...  Loss: 0.3657\n",
      "Epoch: 1/2...  Loss: 0.3289\n",
      "Epoch: 1/2...  Loss: 0.3438\n",
      "Epoch: 1/2...  Loss: 0.3394\n",
      "Epoch: 1/2...  Loss: 0.3337\n",
      "Epoch: 1/2...  Loss: 0.3407\n",
      "Epoch: 1/2...  Loss: 0.3082\n",
      "Epoch: 1/2...  Loss: 0.3427\n",
      "Epoch: 1/2...  Loss: 0.3286\n",
      "Epoch: 1/2...  Loss: 0.3252\n",
      "Epoch: 1/2...  Loss: 0.3261\n",
      "Epoch: 1/2...  Loss: 0.3311\n",
      "Epoch: 1/2...  Loss: 0.3299\n",
      "Epoch: 1/2...  Loss: 0.3267\n",
      "Epoch: 1/2...  Loss: 0.3374\n",
      "Epoch: 1/2...  Loss: 0.3186\n",
      "Epoch: 1/2...  Loss: 0.3140\n",
      "Epoch: 1/2...  Loss: 0.3096\n",
      "Epoch: 1/2...  Loss: 0.3353\n",
      "Epoch: 1/2...  Loss: 0.3749\n",
      "Epoch: 1/2...  Loss: 0.3188\n",
      "Epoch: 1/2...  Loss: 0.3326\n",
      "Epoch: 2/2...  Loss: 0.3107\n",
      "Epoch: 2/2...  Loss: 0.2755\n",
      "Epoch: 2/2...  Loss: 0.3027\n",
      "Epoch: 2/2...  Loss: 0.3015\n",
      "Epoch: 2/2...  Loss: 0.3133\n",
      "Epoch: 2/2...  Loss: 0.3167\n",
      "Epoch: 2/2...  Loss: 0.3048\n",
      "Epoch: 2/2...  Loss: 0.2914\n",
      "Epoch: 2/2...  Loss: 0.3126\n",
      "Epoch: 2/2...  Loss: 0.2921\n",
      "Epoch: 2/2...  Loss: 0.3159\n",
      "Epoch: 2/2...  Loss: 0.3164\n",
      "Epoch: 2/2...  Loss: 0.2842\n",
      "Epoch: 2/2...  Loss: 0.2899\n",
      "Epoch: 2/2...  Loss: 0.3259\n",
      "Epoch: 2/2...  Loss: 0.3023\n",
      "Epoch: 2/2...  Loss: 0.3076\n",
      "Epoch: 2/2...  Loss: 0.2942\n",
      "Epoch: 2/2...  Loss: 0.3218\n",
      "Epoch: 2/2...  Loss: 0.3089\n",
      "Epoch: 2/2...  Loss: 0.2909\n",
      "Epoch: 2/2...  Loss: 0.2984\n",
      "Epoch: 2/2...  Loss: 0.3385\n"
     ]
    }
   ],
   "source": [
    "# TODO: Train the network here\n",
    "\n",
    "epochs = 2\n",
    "print_every = 40\n",
    "steps = 0\n",
    "running_loss=0\n",
    "for e in range(epochs):\n",
    "    \n",
    "    for images, labels in iter(trainloader):\n",
    "        steps += 1\n",
    "        # Flatten MNIST images into a 784 long vector\n",
    "        images.resize_(images.size()[0], 784)\n",
    "        \n",
    "        optimizer.zero_grad()\n",
    "        \n",
    "        # Forward and backward passes\n",
    "        output = model.forward(images)\n",
    "        loss = criterion(output, labels)\n",
    "        loss.backward()\n",
    "        optimizer.step()\n",
    "        \n",
    "        running_loss += loss.item()\n",
    "        \n",
    "        if steps % print_every == 0:\n",
    "            model.eval()\n",
    "            print(\"Epoch: {}/{}... \".format(e+1, epochs),\n",
    "                  \"Loss: {:.4f}\".format(running_loss/print_every))\n",
    "            \n",
    "            running_loss = 0"
   ]
  },
  {
   "cell_type": "code",
   "execution_count": 22,
   "metadata": {},
   "outputs": [
    {
     "data": {
      "image/png": "[encoded data removed]",
      "text/plain": [
       "<Figure size 432x648 with 2 Axes>"
      ]
     },
     "metadata": {
      "image/png": {
       "height": 206,
       "width": 423
      },
      "needs_background": "light"
     },
     "output_type": "display_data"
    }
   ],
   "source": [
    "# Test out your network!\n",
    "model.eval()\n",
    "dataiter = iter(testloader)\n",
    "images, labels = dataiter.next()\n",
    "img = images[6]\n",
    "# Convert 2D image to 1D vector\n",
    "img = img.view(1, 784)\n",
    "with torch.no_grad():\n",
    "    a=model.forward(img)\n",
    "\n",
    "# TODO: Calculate the class probabilities (softmax) for img\n",
    "ps = torch.exp(a)\n",
    "\n",
    "# Plot the image and probabilities\n",
    "helper.view_classify(img.view(1, 28, 28), ps, version='Fashion')"
   ]
  },
  {
   "cell_type": "markdown",
   "metadata": {},
   "source": [
    "Now that your network is trained, you'll want to save it to disk so you can load it later instead of training it again. Obviously, it's impractical to train a network every time you need one. In practice, you'll train it once, save the model, then reload it for further training or making predictions. In the next part, I'll show you how to save and load trained models."
   ]
  },
  {
   "cell_type": "code",
   "execution_count": null,
   "metadata": {},
   "outputs": [],
   "source": []
  }
 ],
 "metadata": {
  "kernelspec": {
   "display_name": "Python 3",
   "language": "python",
   "name": "python3"
  },
  "language_info": {
   "codemirror_mode": {
    "name": "ipython",
    "version": 3
   },
   "file_extension": ".py",
   "mimetype": "text/x-python",
   "name": "python",
   "nbconvert_exporter": "python",
   "pygments_lexer": "ipython3",
   "version": "3.7.1"
  }
 },
 "nbformat": 4,
 "nbformat_minor": 2
}
